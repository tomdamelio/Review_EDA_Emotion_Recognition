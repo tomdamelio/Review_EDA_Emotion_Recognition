{
 "cells": [
  {
   "cell_type": "code",
   "execution_count": 7,
   "metadata": {},
   "outputs": [],
   "source": [
    "from sentiment_analysis_spanish import sentiment_analysis\n",
    "import pandas as pd"
   ]
  },
  {
   "cell_type": "code",
   "execution_count": 8,
   "metadata": {},
   "outputs": [
    {
     "name": "stderr",
     "output_type": "stream",
     "text": [
      "c:\\Users\\martu\\anaconda3\\lib\\site-packages\\sklearn\\base.py:329: UserWarning: Trying to unpickle estimator CountVectorizer from version 0.23.2 when using version 1.0.2. This might lead to breaking code or invalid results. Use at your own risk. For more info please refer to:\n",
      "https://scikit-learn.org/stable/modules/model_persistence.html#security-maintainability-limitations\n",
      "  warnings.warn(\n",
      "c:\\Users\\martu\\anaconda3\\lib\\site-packages\\sklearn\\base.py:329: UserWarning: Trying to unpickle estimator MultinomialNB from version 0.23.2 when using version 1.0.2. This might lead to breaking code or invalid results. Use at your own risk. For more info please refer to:\n",
      "https://scikit-learn.org/stable/modules/model_persistence.html#security-maintainability-limitations\n",
      "  warnings.warn(\n"
     ]
    }
   ],
   "source": [
    "clf = sentiment_analysis.SentimentAnalysisSpanish()\n",
    "h = \"Esta muy buena la pelicula\"\n",
    "y= \"Que horrible comida !!\"\n",
    "z= \"Tuve una experiencial natural\"\n"
   ]
  },
  {
   "cell_type": "code",
   "execution_count": 9,
   "metadata": {},
   "outputs": [
    {
     "name": "stdout",
     "output_type": "stream",
     "text": [
      "0.06062516730565888\n"
     ]
    }
   ],
   "source": [
    "m = \"hola\"\n",
    "print(clf.sentiment(m))\n",
    "df = pd.read_csv(\"C:/Users/martu/OneDrive/Escritorio/Review_EDA_Emotion_Recognition/Lorenzo/NLP.csv\")\n",
    "comments = df['mensaje']\n",
    "\n"
   ]
  },
  {
   "cell_type": "code",
   "execution_count": null,
   "metadata": {},
   "outputs": [],
   "source": []
  },
  {
   "cell_type": "markdown",
   "metadata": {},
   "source": [
    "Se viene el analisis de la carga emocional desde un archivo csv.\n",
    "\n",
    "Información de las librerias:\n",
    "\n",
    "Sentiment-spanish es una biblioteca de Python que utiliza redes neuronales convolucionales para predecir el sentimiento de las oraciones en español. El modelo fue entrenado utilizando más de 800000 reseñas de usuarios de las páginas eltenedor, decathlon, tripadvisor, filmaffinity y ebay .  Las probabilidades bajas significan que el texto es negativo (números cercanos a 0), las probabilidades altas (números cercanos a 1) significan que el texto es positivo. Los espacios intermedios corresponden a textos neutros. https://pypi.org/project/sentiment-analysis-spanish/\n",
    "\n",
    "TextBlob es una biblioteca de Python (2 y 3) para procesar datos textuales. Proporciona una API simple para sumergirse en tareas comunes de procesamiento de lenguaje natural (NLP), como el etiquetado de partes del discurso, la extracción de frases nominales, el análisis de sentimientos, la clasificación, la traducción y más. Donde -1.0 es una polaridad negativa y 1.0 es positivo. Esta puntuación también puede ser igual a 0, que representa una evaluación neutral de una declaración, ya que no contiene ninguna palabra del conjunto de entrenamiento.https://pypi.org/project/textblob/0.9.0/\n"
   ]
  },
  {
   "cell_type": "code",
   "execution_count": 16,
   "metadata": {},
   "outputs": [
    {
     "data": {
      "text/plain": [
       "0    0.00\n",
       "1    0.05\n",
       "2    0.00\n",
       "3    0.00\n",
       "4    0.05\n",
       "5    0.00\n",
       "Name: mensaje, dtype: float64"
      ]
     },
     "execution_count": 16,
     "metadata": {},
     "output_type": "execute_result"
    }
   ],
   "source": [
    "from textblob import TextBlob\n",
    "comments.apply(lambda x: TextBlob(x).sentiment.polarity)\n"
   ]
  },
  {
   "cell_type": "code",
   "execution_count": 11,
   "metadata": {},
   "outputs": [
    {
     "name": "stdout",
     "output_type": "stream",
     "text": [
      "0.0004999080258016516\n"
     ]
    }
   ],
   "source": [
    "k = \"Quiero morir, soy un tonto que no quiere nada del mundo\"\n",
    "j = \"Lloro desoladamente ante el simple hecho de no entender nada sobre el mundo y mirando hacia el horizonte decidio terminar con su vida.\"\n",
    "print(clf.sentiment(k))"
   ]
  },
  {
   "cell_type": "code",
   "execution_count": 1,
   "metadata": {},
   "outputs": [
    {
     "name": "stdout",
     "output_type": "stream",
     "text": [
      "Collecting transformers\n",
      "  Downloading transformers-4.21.1-py3-none-any.whl (4.7 MB)\n",
      "Collecting huggingface-hub<1.0,>=0.1.0\n",
      "  Downloading huggingface_hub-0.8.1-py3-none-any.whl (101 kB)\n",
      "Collecting tokenizers!=0.11.3,<0.13,>=0.11.1\n",
      "  Downloading tokenizers-0.12.1-cp39-cp39-win_amd64.whl (3.3 MB)\n",
      "Requirement already satisfied: numpy>=1.17 in c:\\users\\martu\\anaconda3\\lib\\site-packages (from transformers) (1.21.5)\n",
      "Requirement already satisfied: requests in c:\\users\\martu\\anaconda3\\lib\\site-packages (from transformers) (2.27.1)\n",
      "Requirement already satisfied: regex!=2019.12.17 in c:\\users\\martu\\anaconda3\\lib\\site-packages (from transformers) (2022.3.15)\n",
      "Requirement already satisfied: tqdm>=4.27 in c:\\users\\martu\\anaconda3\\lib\\site-packages (from transformers) (4.64.0)\n",
      "Requirement already satisfied: pyyaml>=5.1 in c:\\users\\martu\\anaconda3\\lib\\site-packages (from transformers) (6.0)\n",
      "Requirement already satisfied: filelock in c:\\users\\martu\\anaconda3\\lib\\site-packages (from transformers) (3.6.0)\n",
      "Requirement already satisfied: packaging>=20.0 in c:\\users\\martu\\anaconda3\\lib\\site-packages (from transformers) (21.3)\n",
      "Requirement already satisfied: typing-extensions>=3.7.4.3 in c:\\users\\martu\\anaconda3\\lib\\site-packages (from huggingface-hub<1.0,>=0.1.0->transformers) (4.1.1)\n",
      "Requirement already satisfied: pyparsing!=3.0.5,>=2.0.2 in c:\\users\\martu\\anaconda3\\lib\\site-packages (from packaging>=20.0->transformers) (3.0.4)\n",
      "Requirement already satisfied: colorama in c:\\users\\martu\\anaconda3\\lib\\site-packages (from tqdm>=4.27->transformers) (0.4.4)\n",
      "Requirement already satisfied: idna<4,>=2.5 in c:\\users\\martu\\anaconda3\\lib\\site-packages (from requests->transformers) (3.3)\n",
      "Requirement already satisfied: charset-normalizer~=2.0.0 in c:\\users\\martu\\anaconda3\\lib\\site-packages (from requests->transformers) (2.0.4)\n",
      "Requirement already satisfied: urllib3<1.27,>=1.21.1 in c:\\users\\martu\\anaconda3\\lib\\site-packages (from requests->transformers) (1.26.9)\n",
      "Requirement already satisfied: certifi>=2017.4.17 in c:\\users\\martu\\anaconda3\\lib\\site-packages (from requests->transformers) (2021.10.8)\n",
      "Installing collected packages: tokenizers, huggingface-hub, transformers\n",
      "Successfully installed huggingface-hub-0.8.1 tokenizers-0.12.1 transformers-4.21.1\n"
     ]
    }
   ],
   "source": [
    "#Instalación de la libreria Transformers (de Hugging Face).\n",
    "\n",
    "!pip install transformers"
   ]
  },
  {
   "cell_type": "markdown",
   "metadata": {},
   "source": []
  },
  {
   "cell_type": "code",
   "execution_count": 1,
   "metadata": {},
   "outputs": [
    {
     "name": "stderr",
     "output_type": "stream",
     "text": [
      "No model was supplied, defaulted to distilbert-base-uncased-finetuned-sst-2-english (https://huggingface.co/distilbert-base-uncased-finetuned-sst-2-english)\n"
     ]
    },
    {
     "data": {
      "application/vnd.jupyter.widget-view+json": {
       "model_id": "ce1f5c31c3e1401a9c2b1aad5b7afd73",
       "version_major": 2,
       "version_minor": 0
      },
      "text/plain": [
       "Downloading:   0%|          | 0.00/255M [00:00<?, ?B/s]"
      ]
     },
     "metadata": {},
     "output_type": "display_data"
    }
   ],
   "source": [
    "from transformers import pipeline\n",
    "#modelo pre-entrenado \n",
    "#Creamo un calsificador para analisis de sentimiento con un modelo personalizado.\n",
    "classifier = pipeline(\"sentiment-analysis\")"
   ]
  },
  {
   "cell_type": "code",
   "execution_count": 16,
   "metadata": {},
   "outputs": [
    {
     "name": "stdout",
     "output_type": "stream",
     "text": [
      "[{'label': 'NEGATIVE', 'score': 0.9919732809066772}]\n"
     ]
    }
   ],
   "source": [
    "print(classifier(\"\"))"
   ]
  },
  {
   "cell_type": "code",
   "execution_count": 7,
   "metadata": {},
   "outputs": [
    {
     "name": "stdout",
     "output_type": "stream",
     "text": [
      "Collecting pysentimiento\n",
      "  Using cached pysentimiento-0.4.2-py3-none-any.whl (30 kB)\n",
      "Collecting torch<2.0.0,>=1.9.0\n",
      "  Using cached torch-1.12.1-cp39-cp39-win_amd64.whl (161.8 MB)\n",
      "Collecting datasets<2.0.0,>=1.13.3\n",
      "  Using cached datasets-1.18.4-py3-none-any.whl (312 kB)\n",
      "Collecting emoji<2.0.0,>=1.6.1\n",
      "  Using cached emoji-1.7.0-py3-none-any.whl\n",
      "Collecting transformers==4.13\n",
      "  Using cached transformers-4.13.0-py3-none-any.whl (3.3 MB)\n",
      "Requirement already satisfied: sklearn<0.1,>=0.0 in c:\\users\\martu\\anaconda3\\lib\\site-packages (from pysentimiento) (0.0)\n",
      "Requirement already satisfied: tokenizers<0.11,>=0.10.1 in c:\\users\\martu\\anaconda3\\lib\\site-packages (from transformers==4.13->pysentimiento) (0.10.3)\n",
      "Collecting sacremoses\n",
      "  Using cached sacremoses-0.0.53-py3-none-any.whl\n",
      "Requirement already satisfied: filelock in c:\\users\\martu\\anaconda3\\lib\\site-packages (from transformers==4.13->pysentimiento) (3.6.0)\n",
      "Requirement already satisfied: pyyaml>=5.1 in c:\\users\\martu\\anaconda3\\lib\\site-packages (from transformers==4.13->pysentimiento) (6.0)\n",
      "Requirement already satisfied: numpy>=1.17 in c:\\users\\martu\\anaconda3\\lib\\site-packages (from transformers==4.13->pysentimiento) (1.21.5)\n",
      "Requirement already satisfied: regex!=2019.12.17 in c:\\users\\martu\\anaconda3\\lib\\site-packages (from transformers==4.13->pysentimiento) (2022.3.15)\n",
      "Requirement already satisfied: packaging>=20.0 in c:\\users\\martu\\anaconda3\\lib\\site-packages (from transformers==4.13->pysentimiento) (21.3)\n",
      "Requirement already satisfied: requests in c:\\users\\martu\\anaconda3\\lib\\site-packages (from transformers==4.13->pysentimiento) (2.27.1)\n",
      "Requirement already satisfied: huggingface-hub<1.0,>=0.1.0 in c:\\users\\martu\\anaconda3\\lib\\site-packages (from transformers==4.13->pysentimiento) (0.8.1)\n",
      "Requirement already satisfied: tqdm>=4.27 in c:\\users\\martu\\anaconda3\\lib\\site-packages (from transformers==4.13->pysentimiento) (4.64.0)\n",
      "Requirement already satisfied: fsspec[http]>=2021.05.0 in c:\\users\\martu\\anaconda3\\lib\\site-packages (from datasets<2.0.0,>=1.13.3->pysentimiento) (2022.2.0)\n",
      "Requirement already satisfied: pandas in c:\\users\\martu\\anaconda3\\lib\\site-packages (from datasets<2.0.0,>=1.13.3->pysentimiento) (1.4.2)\n",
      "Collecting responses<0.19\n",
      "  Using cached responses-0.18.0-py3-none-any.whl (38 kB)\n",
      "Collecting pyarrow!=4.0.0,>=3.0.0\n",
      "  Using cached pyarrow-9.0.0-cp39-cp39-win_amd64.whl (19.6 MB)\n",
      "Requirement already satisfied: aiohttp in c:\\users\\martu\\anaconda3\\lib\\site-packages (from datasets<2.0.0,>=1.13.3->pysentimiento) (3.8.1)\n",
      "Collecting multiprocess\n",
      "  Using cached multiprocess-0.70.13-py39-none-any.whl (132 kB)\n",
      "Requirement already satisfied: xxhash in c:\\users\\martu\\anaconda3\\lib\\site-packages (from datasets<2.0.0,>=1.13.3->pysentimiento) (3.0.0)\n",
      "Requirement already satisfied: dill in c:\\users\\martu\\anaconda3\\lib\\site-packages (from datasets<2.0.0,>=1.13.3->pysentimiento) (0.3.5.1)\n",
      "Requirement already satisfied: typing-extensions>=3.7.4.3 in c:\\users\\martu\\anaconda3\\lib\\site-packages (from huggingface-hub<1.0,>=0.1.0->transformers==4.13->pysentimiento) (4.1.1)\n",
      "Requirement already satisfied: pyparsing!=3.0.5,>=2.0.2 in c:\\users\\martu\\anaconda3\\lib\\site-packages (from packaging>=20.0->transformers==4.13->pysentimiento) (3.0.4)\n",
      "Requirement already satisfied: certifi>=2017.4.17 in c:\\users\\martu\\anaconda3\\lib\\site-packages (from requests->transformers==4.13->pysentimiento) (2021.10.8)\n",
      "Requirement already satisfied: urllib3<1.27,>=1.21.1 in c:\\users\\martu\\anaconda3\\lib\\site-packages (from requests->transformers==4.13->pysentimiento) (1.26.9)\n",
      "Requirement already satisfied: idna<4,>=2.5 in c:\\users\\martu\\anaconda3\\lib\\site-packages (from requests->transformers==4.13->pysentimiento) (3.3)\n",
      "Requirement already satisfied: charset-normalizer~=2.0.0 in c:\\users\\martu\\anaconda3\\lib\\site-packages (from requests->transformers==4.13->pysentimiento) (2.0.4)\n",
      "Requirement already satisfied: scikit-learn in c:\\users\\martu\\anaconda3\\lib\\site-packages (from sklearn<0.1,>=0.0->pysentimiento) (1.0.2)\n",
      "Requirement already satisfied: colorama in c:\\users\\martu\\anaconda3\\lib\\site-packages (from tqdm>=4.27->transformers==4.13->pysentimiento) (0.4.4)\n",
      "Requirement already satisfied: aiosignal>=1.1.2 in c:\\users\\martu\\anaconda3\\lib\\site-packages (from aiohttp->datasets<2.0.0,>=1.13.3->pysentimiento) (1.2.0)\n",
      "Requirement already satisfied: attrs>=17.3.0 in c:\\users\\martu\\anaconda3\\lib\\site-packages (from aiohttp->datasets<2.0.0,>=1.13.3->pysentimiento) (21.4.0)\n",
      "Requirement already satisfied: yarl<2.0,>=1.0 in c:\\users\\martu\\anaconda3\\lib\\site-packages (from aiohttp->datasets<2.0.0,>=1.13.3->pysentimiento) (1.6.3)\n",
      "Requirement already satisfied: async-timeout<5.0,>=4.0.0a3 in c:\\users\\martu\\anaconda3\\lib\\site-packages (from aiohttp->datasets<2.0.0,>=1.13.3->pysentimiento) (4.0.1)\n",
      "Requirement already satisfied: multidict<7.0,>=4.5 in c:\\users\\martu\\anaconda3\\lib\\site-packages (from aiohttp->datasets<2.0.0,>=1.13.3->pysentimiento) (5.1.0)\n",
      "Requirement already satisfied: frozenlist>=1.1.1 in c:\\users\\martu\\anaconda3\\lib\\site-packages (from aiohttp->datasets<2.0.0,>=1.13.3->pysentimiento) (1.2.0)\n",
      "Requirement already satisfied: python-dateutil>=2.8.1 in c:\\users\\martu\\anaconda3\\lib\\site-packages (from pandas->datasets<2.0.0,>=1.13.3->pysentimiento) (2.8.2)\n",
      "Requirement already satisfied: pytz>=2020.1 in c:\\users\\martu\\anaconda3\\lib\\site-packages (from pandas->datasets<2.0.0,>=1.13.3->pysentimiento) (2021.3)\n",
      "Requirement already satisfied: six>=1.5 in c:\\users\\martu\\anaconda3\\lib\\site-packages (from python-dateutil>=2.8.1->pandas->datasets<2.0.0,>=1.13.3->pysentimiento) (1.16.0)\n",
      "Requirement already satisfied: joblib in c:\\users\\martu\\anaconda3\\lib\\site-packages (from sacremoses->transformers==4.13->pysentimiento) (1.1.0)\n",
      "Requirement already satisfied: click in c:\\users\\martu\\anaconda3\\lib\\site-packages (from sacremoses->transformers==4.13->pysentimiento) (8.0.4)\n",
      "Requirement already satisfied: scipy>=1.1.0 in c:\\users\\martu\\anaconda3\\lib\\site-packages (from scikit-learn->sklearn<0.1,>=0.0->pysentimiento) (1.7.3)\n",
      "Requirement already satisfied: threadpoolctl>=2.0.0 in c:\\users\\martu\\anaconda3\\lib\\site-packages (from scikit-learn->sklearn<0.1,>=0.0->pysentimiento) (2.2.0)\n",
      "Installing collected packages: sacremoses, responses, pyarrow, multiprocess, transformers, torch, emoji, datasets, pysentimiento\n",
      "  Attempting uninstall: transformers\n",
      "    Found existing installation: transformers 4.21.1\n",
      "    Uninstalling transformers-4.21.1:\n",
      "      Successfully uninstalled transformers-4.21.1\n",
      "Successfully installed datasets-1.18.4 emoji-1.7.0 multiprocess-0.70.13 pyarrow-9.0.0 pysentimiento-0.4.2 responses-0.18.0 sacremoses-0.0.53 torch-1.12.1 transformers-4.13.0\n"
     ]
    }
   ],
   "source": [
    "!pip install pysentimiento"
   ]
  },
  {
   "cell_type": "code",
   "execution_count": 19,
   "metadata": {},
   "outputs": [
    {
     "data": {
      "text/plain": [
       "AnalyzerOutput(output=NEG, probas={NEG: 0.993, NEU: 0.006, POS: 0.002})"
      ]
     },
     "execution_count": 19,
     "metadata": {},
     "output_type": "execute_result"
    }
   ],
   "source": [
    "#from pysentimiento import create_analyzer\n",
    "# ver https://colab.research.google.com/github/pysentimiento/pysentimiento/blob/master/notebooks/PySentimiento_Sentiment_Analysis_in_Spanish.ipynb#scrollTo=KVnFbpovDEa6\n",
    "\n",
    "#analyzer = create_analyzer(task=\"sentiment\", lang=\"es\")\n",
    "analyzer.predict(\"Odio la vida\")\n",
    "\n",
    "#analyzer.predict(\"Lloro desoladamente ante el simple hecho de no entender nada sobre el mundo y mirando hacia el horizonte decidio terminar con su vida.\")"
   ]
  },
  {
   "cell_type": "markdown",
   "metadata": {},
   "source": [
    "VER https://radimrehurek.com/gensim/auto_examples/core/run_core_concepts.html#sphx-glr-auto-examples-core-run-core-concepts-py "
   ]
  }
 ],
 "metadata": {
  "kernelspec": {
   "display_name": "Python 3.9.12 ('base')",
   "language": "python",
   "name": "python3"
  },
  "language_info": {
   "codemirror_mode": {
    "name": "ipython",
    "version": 3
   },
   "file_extension": ".py",
   "mimetype": "text/x-python",
   "name": "python",
   "nbconvert_exporter": "python",
   "pygments_lexer": "ipython3",
   "version": "3.9.12"
  },
  "orig_nbformat": 4,
  "vscode": {
   "interpreter": {
    "hash": "25cf2369eaeb6f1d3905f903ccc20e20ffe834e523e3e1bf771880feab75289d"
   }
  }
 },
 "nbformat": 4,
 "nbformat_minor": 2
}
