{
 "cells": [
  {
   "cell_type": "markdown",
   "metadata": {},
   "source": [
    "# Analisis extra\n",
    "Acá se analizan los datos por fuera de los requerimientos principales"
   ]
  },
  {
   "cell_type": "markdown",
   "metadata": {},
   "source": [
    "Primero se procede con importar librerias y datos"
   ]
  },
  {
   "cell_type": "code",
   "execution_count": null,
   "metadata": {},
   "outputs": [],
   "source": [
    "#Importar librerias a usar\n",
    "import pandas as pd\n",
    "import seaborn as sns\n",
    "import matplotlib.pyplot as plt\n",
    "\n",
    "#CREACION DE FATA FRAMES\n",
    "df_metadata = pd.read_csv(\"c:\\\\Users\\\\LENOVO\\\\Downloads\\\\Review_EDA_Emotion_Recognition\\\\EMMA\\\\data\\\\cleaned\\\\Tabla Normalizada - Metadata.csv\")\n",
    "df_data_type = pd.read_csv('c:\\\\Users\\\\LENOVO\\\\Downloads\\\\Review_EDA_Emotion_Recognition\\\\EMMA\\\\data\\\\cleaned\\\\Tabla Normalizada - Data type.csv')\n",
    "df_participants = pd.read_csv('c:\\\\Users\\\\LENOVO\\\\Downloads\\\\Review_EDA_Emotion_Recognition\\\\EMMA\\\\data\\\\cleaned\\\\Tabla Normalizada - Participants.csv')\n",
    "df_self_report = pd.read_csv('c:\\\\Users\\\\LENOVO\\\\Downloads\\\\Review_EDA_Emotion_Recognition\\\\EMMA\\\\data\\\\cleaned\\\\Tabla Normalizada - Self report.csv')\n",
    "df_emotion_elicitation_techniques = pd.read_csv('c:\\\\Users\\\\LENOVO\\\\Downloads\\\\Review_EDA_Emotion_Recognition\\\\EMMA\\\\data\\\\cleaned\\\\Tabla Normalizada - Emotion elicitation techniques.csv')\n",
    "df_eda = pd.read_csv('c:\\\\Users\\\\LENOVO\\\\Downloads\\\\Review_EDA_Emotion_Recognition\\\\EMMA\\\\data\\\\cleaned\\\\Tabla Normalizada - EDA.csv')\n",
    "df_statistical_learning_models = pd.read_csv('c:\\\\Users\\\\LENOVO\\\\Downloads\\\\Review_EDA_Emotion_Recognition\\\\EMMA\\\\data\\\\cleaned\\\\Tabla Normalizada - Statistical Learning model.csv')\n",
    "df_performances = pd.read_csv('c:\\\\Users\\\\LENOVO\\\\Downloads\\\\Review_EDA_Emotion_Recognition\\\\EMMA\\\\data\\\\cleaned\\\\Tabla Normalizada - Performances.csv')"
   ]
  },
  {
   "cell_type": "markdown",
   "metadata": {},
   "source": [
    "## 1. Frecuencia de papers por tipo de source (conference, journal, pre-print)"
   ]
  },
  {
   "cell_type": "code",
   "execution_count": null,
   "metadata": {},
   "outputs": [],
   "source": [
    "df_metadata=df_metadata.fillna('-')\n",
    "df_metadata_sin_duplicates = df_metadata.drop_duplicates(subset='paper_id')\n",
    "\n",
    "df_sources = df_metadata_sin_duplicates.iloc[:,7:10]\n",
    "def get_value(row):\n",
    "     for c in df_sources.columns:\n",
    "         if row[c]== 'x':\n",
    "             return c\n",
    "\n",
    "df_sources = df_sources.apply(get_value, axis=1)\n",
    "df_sources = pd.DataFrame(df_sources)\n",
    "df_sources.columns = ['Source type']\n",
    "\n",
    "\n",
    "#ploteo\n",
    "quantity = df_sources['Source type'].value_counts()\n",
    "df_quantity = pd.DataFrame(quantity)\n",
    "\n",
    "plt.rcParams['figure.figsize'] = [20, 10]\n",
    "sns.set_style(\"darkgrid\")\n",
    "sns.set_palette('colorblind')\n",
    "sns.countplot(x='Source type', data=df_sources)\n",
    "plt.show()\n",
    "\n",
    "\n",
    "#pie plot\n",
    "sns.set_style(\"darkgrid\")\n",
    "sns.set_palette('colorblind')\n",
    "names = 'Journal', 'Conference', 'Pre-print'\n",
    "plt.pie(df_quantity['Source type'], labels = names, labeldistance = 1.15, wedgeprops = { 'linewidth' : 3, 'edgecolor' : 'white' })\n",
    "plt.show()\n"
   ]
  },
  {
   "cell_type": "markdown",
   "metadata": {},
   "source": [
    "# 2. Gráfico de barras papers por país y continente\n",
    "Interpretación: primacía de trabajos provenientes de China y Asia. Seguidos estos por trabajos europeos."
   ]
  },
  {
   "cell_type": "code",
   "execution_count": null,
   "metadata": {},
   "outputs": [],
   "source": [
    "paises = df_metadata_sin_duplicates[\"first_author_country_affiliation\"].unique()\n",
    "\n",
    "countries = df_metadata_sin_duplicates.pivot_table(columns=['first_author_country_affiliation'], aggfunc='size')\n",
    "df_countries = pd.DataFrame(countries)\n",
    "\n",
    "order = ['China','USA', 'Germany', 'India','Turkey','Italy', 'Malaysia','Spain','Iran', 'Switzerland','Romania','Pakistan', 'Taiwan','Greece', 'Japan',\n",
    "'Austria', 'Tunisia','Macedonian', 'Finland', 'Slovenia', 'Portugal', 'Korea',\n",
    "'UK', 'Indonesia','Canada', 'France', 'Lithuania', \n",
    "'Egypt','Colombia', 'Australia', 'Poland']\n",
    "\n",
    "df_countries.loc[order].plot(kind='bar', title='Cantidad de papers por país', xlabel='country', ylabel='paper quantity')\n",
    "plt.show()\n",
    "\n",
    "#Papers por continente - plot\n",
    "papers_continents = {'continents' : ['Asia', 'Europa','America','Africa','Australia'],\n",
    "'quantity' : [49, 39, 9, 3, 1]}\n",
    "df_continents = pd.DataFrame(papers_continents)\n",
    "print(df_continents)\n",
    "\n",
    "df_continents.set_index('continents').plot(kind='bar', title='Cantidad de papers por continente', xlabel='continent', ylabel='paper quantity')\n",
    "plt.show()\n"
   ]
  },
  {
   "cell_type": "markdown",
   "metadata": {},
   "source": [
    "## Grafico base de datos\n",
    "\n",
    "Incluir en un grafico, dentro de las bases de datos publicas, cada base de dato publica (AMIGOS, MAHNOB, etc.)\n",
    "- cantidad total de papers: 101\n",
    "- db publicas : \n",
    "- DEAP 10\n",
    "- MAHNOB 7\n",
    "- AMIGOS 7\n",
    "- PMEmo 3\n",
    "- Ascertein 2\n",
    "- RECOLA 2\n",
    "- Otros 7\n",
    "db privadas : "
   ]
  }
 ],
 "metadata": {
  "kernelspec": {
   "display_name": "Python 3.9.6 64-bit",
   "language": "python",
   "name": "python3"
  },
  "language_info": {
   "codemirror_mode": {
    "name": "ipython",
    "version": 3
   },
   "file_extension": ".py",
   "mimetype": "text/x-python",
   "name": "python",
   "nbconvert_exporter": "python",
   "pygments_lexer": "ipython3",
   "version": "3.9.6"
  },
  "orig_nbformat": 4,
  "vscode": {
   "interpreter": {
    "hash": "e31aef8222fb7c235d2ed8e74ce17e973738f89b37261e7466b7a63a6dfb1214"
   }
  }
 },
 "nbformat": 4,
 "nbformat_minor": 2
}
